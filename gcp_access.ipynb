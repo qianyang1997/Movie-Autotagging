{
 "cells": [
  {
   "cell_type": "markdown",
   "metadata": {},
   "source": [
    "# GCP Access Script\n",
    "\n",
    "A variety of functionalities to read, (over)write, and move files/directories on GCP. Download this script as a .py file when using it in conjunction with other scripts in the repository."
   ]
  },
  {
   "cell_type": "code",
   "execution_count": null,
   "metadata": {},
   "outputs": [],
   "source": [
    "#!pip install gcsfs\n",
    "from google.cloud import storage\n",
    "import os\n",
    "import tempfile\n",
    "import pandas as pd\n",
    "import re"
   ]
  },
  {
   "cell_type": "code",
   "execution_count": null,
   "metadata": {},
   "outputs": [],
   "source": [
    "class gcp:\n",
    "    \n",
    "    def __init__(self, bucket_name, credentials):\n",
    "        \"\"\"\n",
    "        Input:\n",
    "        - bucket_name: name of the target GCP bucket\n",
    "        - credentials: GCP credentials in json format\n",
    "        \"\"\"\n",
    "        self.bucket_name = bucket_name\n",
    "        # make sure the json file is in the current directory\n",
    "        os.environ[\"GOOGLE_APPLICATION_CREDENTIALS\"] = credentials\n",
    "        self.storage_client = storage.Client()\n",
    "        self.bucket = self.storage_client.bucket(self.bucket_name)\n",
    "        \n",
    "    def list_blob(self):\n",
    "        \"\"\"List all the blobs in the bucket.\"\"\"\n",
    "        blobs = self.storage_client.list_blobs(self.bucket_name)\n",
    "        for blob in blobs:\n",
    "            print(blob.name)\n",
    "            \n",
    "    def delete_blob(self, filepath):\n",
    "        \"\"\"Deletes a blob from the bucket given specified filepath.\"\"\"\n",
    "        blob = self.bucket.blob(filepath)\n",
    "        blob.delete()\n",
    "    \n",
    "    def list_html(self, imdb_id='', source=''):\n",
    "        \"\"\"Returns a list of html filepaths from GCP as a verification measure\"\"\"\n",
    "        blobs = self.storage_client.list_blobs(self.bucket_name)\n",
    "        html_files = [blob.name for blob in blobs if re.match(imdb_id + '/' + source, blob.name)]\n",
    "        return html_files\n",
    "    \n",
    "    def list_filepath(self, imdb_id='', source=''):\n",
    "        \"\"\"Lists all the filepaths of a given imdb_id and/or web source.\"\"\"\n",
    "        df = self.read_master_csv()\n",
    "        return df['filepath'][df['filepath'].str.contains(imdb_id + '/' + source)].tolist()\n",
    "    \n",
    "    def read_html(self, imdb_id='', source=''):\n",
    "        \"\"\"Returns a list of html files given imdb_id and web source.\"\"\"\n",
    "        html_files = self.list_filepath(imdb_id, source)\n",
    "        html_file_list = []\n",
    "        for file in html_files:\n",
    "            blob = self.bucket.blob(file)\n",
    "            html_file_list.append(blob.download_as_bytes().decode('utf-8', 'backslashreplace'))\n",
    "        return html_file_list\n",
    "    \n",
    "    def read_html_by_filepath(self, filepath):\n",
    "        \"\"\"Takes in a list of filepaths and returns a list of raw html files.\"\"\"\n",
    "        html_file_list = []\n",
    "        for file in filepath:\n",
    "            blob = self.bucket.blob(file)\n",
    "            html_file_list.append(blob.download_as_bytes().decode('utf-8', 'backslashreplace'))\n",
    "        return html_file_list\n",
    "    \n",
    "    def upload_html(self, html_text, gcp_filepath):\n",
    "        \"\"\"Uploads raw html files in .txt format to the designated directory.\"\"\"\n",
    "        # create tmp html file locally and upload to GCP\n",
    "        blob = self.bucket.blob(gcp_filepath)\n",
    "        blob.upload_from_string(html_text)\n",
    "            \n",
    "    def read_master_csv(self):\n",
    "        \"\"\"Reads the master csv (csv that contains all metadata information about each file in GCP).\"\"\"\n",
    "        return pd.read_csv('gs://' + self.bucket_name + '/master.csv').iloc[:, 1:]\n",
    "    \n",
    "    def upload_master_csv(self, master_csv, local_path):\n",
    "        \"\"\"Save a local copy of the new master csv and upload to GCP.\"\"\"\n",
    "        master_csv.to_csv(local_path)\n",
    "        blob = self.bucket.blob('master.csv')\n",
    "        blob.upload_from_filename(local_path)"
   ]
  },
  {
   "cell_type": "code",
   "execution_count": null,
   "metadata": {},
   "outputs": [],
   "source": [
    "# test code\n",
    "if __name__ == '__main__':\n",
    "    gcp_access = gcp()\n",
    "    master_csv = gcp_access.read_master_csv()\n",
    "    print(master_csv.head())"
   ]
  }
 ],
 "metadata": {
  "kernelspec": {
   "display_name": "Python 3",
   "language": "python",
   "name": "python3"
  },
  "language_info": {
   "codemirror_mode": {
    "name": "ipython",
    "version": 3
   },
   "file_extension": ".py",
   "mimetype": "text/x-python",
   "name": "python",
   "nbconvert_exporter": "python",
   "pygments_lexer": "ipython3",
   "version": "3.8.5"
  }
 },
 "nbformat": 4,
 "nbformat_minor": 4
}
